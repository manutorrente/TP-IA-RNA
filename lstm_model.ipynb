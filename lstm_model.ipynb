{
 "cells": [
  {
   "cell_type": "code",
   "execution_count": 7,
   "metadata": {},
   "outputs": [
    {
     "data": {
      "text/plain": [
       "[]"
      ]
     },
     "execution_count": 7,
     "metadata": {},
     "output_type": "execute_result"
    }
   ],
   "source": [
    "import pandas as pd\n",
    "import numpy as np\n",
    "\n",
    "def load_data_from_csv(filename):\n",
    "    return pd.read_csv(filename)\n",
    "\n",
    "import tensorflow as tf\n",
    "from tensorflow import keras\n",
    "from tensorflow.keras import layers\n",
    "\n",
    "tf.config.list_physical_devices('GPU')"
   ]
  },
  {
   "cell_type": "code",
   "execution_count": 8,
   "metadata": {},
   "outputs": [
    {
     "data": {
      "text/html": [
       "<div>\n",
       "<style scoped>\n",
       "    .dataframe tbody tr th:only-of-type {\n",
       "        vertical-align: middle;\n",
       "    }\n",
       "\n",
       "    .dataframe tbody tr th {\n",
       "        vertical-align: top;\n",
       "    }\n",
       "\n",
       "    .dataframe thead th {\n",
       "        text-align: right;\n",
       "    }\n",
       "</style>\n",
       "<table border=\"1\" class=\"dataframe\">\n",
       "  <thead>\n",
       "    <tr style=\"text-align: right;\">\n",
       "      <th></th>\n",
       "      <th>word</th>\n",
       "      <th>gender</th>\n",
       "    </tr>\n",
       "  </thead>\n",
       "  <tbody>\n",
       "    <tr>\n",
       "      <th>0</th>\n",
       "      <td>Keratin</td>\n",
       "      <td>n</td>\n",
       "    </tr>\n",
       "    <tr>\n",
       "      <th>1</th>\n",
       "      <td>Lactalbumin</td>\n",
       "      <td>n</td>\n",
       "    </tr>\n",
       "    <tr>\n",
       "      <th>2</th>\n",
       "      <td>Mercaptoethanol</td>\n",
       "      <td>n</td>\n",
       "    </tr>\n",
       "    <tr>\n",
       "      <th>3</th>\n",
       "      <td>Nduja</td>\n",
       "      <td>f</td>\n",
       "    </tr>\n",
       "    <tr>\n",
       "      <th>4</th>\n",
       "      <td>Vesta</td>\n",
       "      <td>f</td>\n",
       "    </tr>\n",
       "    <tr>\n",
       "      <th>...</th>\n",
       "      <td>...</td>\n",
       "      <td>...</td>\n",
       "    </tr>\n",
       "    <tr>\n",
       "      <th>376791</th>\n",
       "      <td>Nachrede</td>\n",
       "      <td>f</td>\n",
       "    </tr>\n",
       "    <tr>\n",
       "      <th>376792</th>\n",
       "      <td>Löschungsort</td>\n",
       "      <td>m</td>\n",
       "    </tr>\n",
       "    <tr>\n",
       "      <th>376793</th>\n",
       "      <td>Cejkait</td>\n",
       "      <td>m</td>\n",
       "    </tr>\n",
       "    <tr>\n",
       "      <th>376794</th>\n",
       "      <td>Propellerdomäne</td>\n",
       "      <td>f</td>\n",
       "    </tr>\n",
       "    <tr>\n",
       "      <th>376795</th>\n",
       "      <td>Glutamyltransferase</td>\n",
       "      <td>f</td>\n",
       "    </tr>\n",
       "  </tbody>\n",
       "</table>\n",
       "<p>376796 rows × 2 columns</p>\n",
       "</div>"
      ],
      "text/plain": [
       "                       word gender\n",
       "0                   Keratin      n\n",
       "1               Lactalbumin      n\n",
       "2           Mercaptoethanol      n\n",
       "3                     Nduja      f\n",
       "4                     Vesta      f\n",
       "...                     ...    ...\n",
       "376791             Nachrede      f\n",
       "376792         Löschungsort      m\n",
       "376793              Cejkait      m\n",
       "376794      Propellerdomäne      f\n",
       "376795  Glutamyltransferase      f\n",
       "\n",
       "[376796 rows x 2 columns]"
      ]
     },
     "execution_count": 8,
     "metadata": {},
     "output_type": "execute_result"
    }
   ],
   "source": [
    "dataset = load_data_from_csv('dataset.csv')\n",
    "dataset"
   ]
  },
  {
   "cell_type": "code",
   "execution_count": 9,
   "metadata": {},
   "outputs": [
    {
     "data": {
      "text/plain": [
       "376795"
      ]
     },
     "execution_count": 9,
     "metadata": {},
     "output_type": "execute_result"
    }
   ],
   "source": [
    "from utils import wordToSequence, generate_classification_labels, german_characters\n",
    "from functools import partial\n",
    "\n",
    "max_characters = 7\n",
    "\n",
    "possible_classes = ['m', 'f', 'n']\n",
    "\n",
    "def flatten(list_of_lists):\n",
    "    return [item for sublist in list_of_lists for item in sublist]\n",
    "\n",
    "def crop_word(word, max_length):\n",
    "    return word[-max_length:]\n",
    "\n",
    "def preprocessing(chunk):\n",
    "    chunk.dropna(inplace=True)\n",
    "    chunk['word'] = chunk['word'].str.lower()\n",
    "    chunk['word'] = chunk['word'].apply(lambda x: crop_word(x, max_characters))\n",
    "    chunk['sequence'] = chunk['word'].map(partial(wordToSequence, possible_characters=german_characters, set_length=max_characters))\n",
    "    chunk['labels'] = chunk['gender'].map(partial(generate_classification_labels, classes=possible_classes))\n",
    "    chunk['labels'] = chunk['labels'].map(flatten)\n",
    "    return chunk\n",
    "\n",
    "dataset = preprocessing(dataset)\n",
    "len(dataset)"
   ]
  },
  {
   "cell_type": "code",
   "execution_count": 10,
   "metadata": {},
   "outputs": [],
   "source": [
    "from utils import split_data\n",
    "\n",
    "train_x, train_y, val_x, val_y, test_x, test_y = split_data(dataset, ['sequence'], ['labels'])\n"
   ]
  },
  {
   "cell_type": "code",
   "execution_count": 11,
   "metadata": {},
   "outputs": [
    {
     "name": "stdout",
     "output_type": "stream",
     "text": [
      "(301436, 7)\n",
      "(301436, 3)\n"
     ]
    }
   ],
   "source": [
    "\n",
    "\n",
    "\n",
    "\n",
    "def x_to_array(x, column):\n",
    "    array = np.array(x[column].tolist())\n",
    "    return tf.cast(array, dtype = tf.float32)\n",
    "\n",
    "\n",
    "train_x = x_to_array(train_x, 'sequence')\n",
    "val_x = x_to_array(val_x, 'sequence')\n",
    "test_x = x_to_array(test_x, 'sequence')\n",
    "\n",
    "train_y = x_to_array(train_y, 'labels')\n",
    "val_y = x_to_array(val_y, 'labels')\n",
    "test_y = x_to_array(test_y, 'labels')\n",
    "\n",
    "print(np.shape(train_x))\n",
    "print(np.shape(train_y))"
   ]
  },
  {
   "cell_type": "code",
   "execution_count": 43,
   "metadata": {},
   "outputs": [
    {
     "data": {
      "text/plain": [
       "<module 'utils' from 'c:\\\\Users\\\\Manu\\\\OneDrive\\\\Escritorio\\\\UTN\\\\IA\\\\TP_RNA\\\\utils.py'>"
      ]
     },
     "execution_count": 43,
     "metadata": {},
     "output_type": "execute_result"
    }
   ],
   "source": [
    "import importlib\n",
    "import utils\n",
    "importlib.reload(utils)"
   ]
  },
  {
   "cell_type": "markdown",
   "metadata": {},
   "source": [
    "# Fifth Version: LSTMs"
   ]
  },
  {
   "cell_type": "code",
   "execution_count": 33,
   "metadata": {},
   "outputs": [],
   "source": [
    "learning_rates = [0.02, 0.01, 0.005, 0.001, 0.0003]\n",
    "epochs = [40, 25, 15, 10, 5]\n",
    "\n",
    "batch_size = 64\n",
    "\n",
    "loss = keras.losses.BinaryCrossentropy()\n",
    "metrics = [\"accuracy\"]\n"
   ]
  },
  {
   "cell_type": "code",
   "execution_count": 34,
   "metadata": {},
   "outputs": [
    {
     "name": "stderr",
     "output_type": "stream",
     "text": [
      "c:\\Users\\Manu\\OneDrive\\Escritorio\\UTN\\IA\\TP_RNA\\TPIAVenv\\Lib\\site-packages\\keras\\src\\layers\\core\\embedding.py:90: UserWarning: Argument `input_length` is deprecated. Just remove it.\n",
      "  warnings.warn(\n"
     ]
    },
    {
     "data": {
      "text/html": [
       "<pre style=\"white-space:pre;overflow-x:auto;line-height:normal;font-family:Menlo,'DejaVu Sans Mono',consolas,'Courier New',monospace\"><span style=\"font-weight: bold\">Model: \"sequential_8\"</span>\n",
       "</pre>\n"
      ],
      "text/plain": [
       "\u001b[1mModel: \"sequential_8\"\u001b[0m\n"
      ]
     },
     "metadata": {},
     "output_type": "display_data"
    },
    {
     "data": {
      "text/html": [
       "<pre style=\"white-space:pre;overflow-x:auto;line-height:normal;font-family:Menlo,'DejaVu Sans Mono',consolas,'Courier New',monospace\">┏━━━━━━━━━━━━━━━━━━━━━━━━━━━━━━━━━┳━━━━━━━━━━━━━━━━━━━━━━━━┳━━━━━━━━━━━━━━━┓\n",
       "┃<span style=\"font-weight: bold\"> Layer (type)                    </span>┃<span style=\"font-weight: bold\"> Output Shape           </span>┃<span style=\"font-weight: bold\">       Param # </span>┃\n",
       "┡━━━━━━━━━━━━━━━━━━━━━━━━━━━━━━━━━╇━━━━━━━━━━━━━━━━━━━━━━━━╇━━━━━━━━━━━━━━━┩\n",
       "│ embedding_8 (<span style=\"color: #0087ff; text-decoration-color: #0087ff\">Embedding</span>)         │ (<span style=\"color: #00d7ff; text-decoration-color: #00d7ff\">None</span>, <span style=\"color: #00af00; text-decoration-color: #00af00\">7</span>, <span style=\"color: #00af00; text-decoration-color: #00af00\">32</span>)          │           <span style=\"color: #00af00; text-decoration-color: #00af00\">960</span> │\n",
       "├─────────────────────────────────┼────────────────────────┼───────────────┤\n",
       "│ flatten_1 (<span style=\"color: #0087ff; text-decoration-color: #0087ff\">Flatten</span>)             │ (<span style=\"color: #00d7ff; text-decoration-color: #00d7ff\">None</span>, <span style=\"color: #00af00; text-decoration-color: #00af00\">224</span>)            │             <span style=\"color: #00af00; text-decoration-color: #00af00\">0</span> │\n",
       "├─────────────────────────────────┼────────────────────────┼───────────────┤\n",
       "│ dense_24 (<span style=\"color: #0087ff; text-decoration-color: #0087ff\">Dense</span>)                │ (<span style=\"color: #00d7ff; text-decoration-color: #00d7ff\">None</span>, <span style=\"color: #00af00; text-decoration-color: #00af00\">64</span>)             │        <span style=\"color: #00af00; text-decoration-color: #00af00\">14,400</span> │\n",
       "├─────────────────────────────────┼────────────────────────┼───────────────┤\n",
       "│ dense_25 (<span style=\"color: #0087ff; text-decoration-color: #0087ff\">Dense</span>)                │ (<span style=\"color: #00d7ff; text-decoration-color: #00d7ff\">None</span>, <span style=\"color: #00af00; text-decoration-color: #00af00\">32</span>)             │         <span style=\"color: #00af00; text-decoration-color: #00af00\">2,080</span> │\n",
       "├─────────────────────────────────┼────────────────────────┼───────────────┤\n",
       "│ dense_26 (<span style=\"color: #0087ff; text-decoration-color: #0087ff\">Dense</span>)                │ (<span style=\"color: #00d7ff; text-decoration-color: #00d7ff\">None</span>, <span style=\"color: #00af00; text-decoration-color: #00af00\">3</span>)              │            <span style=\"color: #00af00; text-decoration-color: #00af00\">99</span> │\n",
       "└─────────────────────────────────┴────────────────────────┴───────────────┘\n",
       "</pre>\n"
      ],
      "text/plain": [
       "┏━━━━━━━━━━━━━━━━━━━━━━━━━━━━━━━━━┳━━━━━━━━━━━━━━━━━━━━━━━━┳━━━━━━━━━━━━━━━┓\n",
       "┃\u001b[1m \u001b[0m\u001b[1mLayer (type)                   \u001b[0m\u001b[1m \u001b[0m┃\u001b[1m \u001b[0m\u001b[1mOutput Shape          \u001b[0m\u001b[1m \u001b[0m┃\u001b[1m \u001b[0m\u001b[1m      Param #\u001b[0m\u001b[1m \u001b[0m┃\n",
       "┡━━━━━━━━━━━━━━━━━━━━━━━━━━━━━━━━━╇━━━━━━━━━━━━━━━━━━━━━━━━╇━━━━━━━━━━━━━━━┩\n",
       "│ embedding_8 (\u001b[38;5;33mEmbedding\u001b[0m)         │ (\u001b[38;5;45mNone\u001b[0m, \u001b[38;5;34m7\u001b[0m, \u001b[38;5;34m32\u001b[0m)          │           \u001b[38;5;34m960\u001b[0m │\n",
       "├─────────────────────────────────┼────────────────────────┼───────────────┤\n",
       "│ flatten_1 (\u001b[38;5;33mFlatten\u001b[0m)             │ (\u001b[38;5;45mNone\u001b[0m, \u001b[38;5;34m224\u001b[0m)            │             \u001b[38;5;34m0\u001b[0m │\n",
       "├─────────────────────────────────┼────────────────────────┼───────────────┤\n",
       "│ dense_24 (\u001b[38;5;33mDense\u001b[0m)                │ (\u001b[38;5;45mNone\u001b[0m, \u001b[38;5;34m64\u001b[0m)             │        \u001b[38;5;34m14,400\u001b[0m │\n",
       "├─────────────────────────────────┼────────────────────────┼───────────────┤\n",
       "│ dense_25 (\u001b[38;5;33mDense\u001b[0m)                │ (\u001b[38;5;45mNone\u001b[0m, \u001b[38;5;34m32\u001b[0m)             │         \u001b[38;5;34m2,080\u001b[0m │\n",
       "├─────────────────────────────────┼────────────────────────┼───────────────┤\n",
       "│ dense_26 (\u001b[38;5;33mDense\u001b[0m)                │ (\u001b[38;5;45mNone\u001b[0m, \u001b[38;5;34m3\u001b[0m)              │            \u001b[38;5;34m99\u001b[0m │\n",
       "└─────────────────────────────────┴────────────────────────┴───────────────┘\n"
      ]
     },
     "metadata": {},
     "output_type": "display_data"
    },
    {
     "data": {
      "text/html": [
       "<pre style=\"white-space:pre;overflow-x:auto;line-height:normal;font-family:Menlo,'DejaVu Sans Mono',consolas,'Courier New',monospace\"><span style=\"font-weight: bold\"> Total params: </span><span style=\"color: #00af00; text-decoration-color: #00af00\">17,539</span> (68.51 KB)\n",
       "</pre>\n"
      ],
      "text/plain": [
       "\u001b[1m Total params: \u001b[0m\u001b[38;5;34m17,539\u001b[0m (68.51 KB)\n"
      ]
     },
     "metadata": {},
     "output_type": "display_data"
    },
    {
     "data": {
      "text/html": [
       "<pre style=\"white-space:pre;overflow-x:auto;line-height:normal;font-family:Menlo,'DejaVu Sans Mono',consolas,'Courier New',monospace\"><span style=\"font-weight: bold\"> Trainable params: </span><span style=\"color: #00af00; text-decoration-color: #00af00\">17,539</span> (68.51 KB)\n",
       "</pre>\n"
      ],
      "text/plain": [
       "\u001b[1m Trainable params: \u001b[0m\u001b[38;5;34m17,539\u001b[0m (68.51 KB)\n"
      ]
     },
     "metadata": {},
     "output_type": "display_data"
    },
    {
     "data": {
      "text/html": [
       "<pre style=\"white-space:pre;overflow-x:auto;line-height:normal;font-family:Menlo,'DejaVu Sans Mono',consolas,'Courier New',monospace\"><span style=\"font-weight: bold\"> Non-trainable params: </span><span style=\"color: #00af00; text-decoration-color: #00af00\">0</span> (0.00 B)\n",
       "</pre>\n"
      ],
      "text/plain": [
       "\u001b[1m Non-trainable params: \u001b[0m\u001b[38;5;34m0\u001b[0m (0.00 B)\n"
      ]
     },
     "metadata": {},
     "output_type": "display_data"
    }
   ],
   "source": [
    "model = keras.models.Sequential()\n",
    "\n",
    "model.add(layers.Embedding(len(german_characters), 32, input_length=max_characters))\n",
    "\n",
    "model.add(layers.Flatten())\n",
    "\n",
    "model.add(layers.Dense(64, activation='relu'))\n",
    "\n",
    "model.add(layers.Dense(32, activation='relu'))\n",
    "\n",
    "model.add(layers.Dense(3, activation='softmax'))\n",
    "\n",
    "model.compile(optimizer='adam', loss=loss, metrics=metrics)\n",
    "\n",
    "model.build(input_shape=(None, max_characters))\n",
    "\n",
    "keras.utils.plot_model(model, to_file='model_plot_lstm1.png', show_shapes=True, show_layer_names=True)\n",
    "\n",
    "model.summary()\n"
   ]
  },
  {
   "cell_type": "code",
   "execution_count": 35,
   "metadata": {},
   "outputs": [
    {
     "name": "stdout",
     "output_type": "stream",
     "text": [
      "Epoch 1/40\n",
      "4710/4710 - 14s - 3ms/step - accuracy: 0.6019 - loss: 0.4973 - val_accuracy: 0.6683 - val_loss: 0.4273\n",
      "Epoch 2/40\n",
      "4710/4710 - 12s - 2ms/step - accuracy: 0.7221 - loss: 0.3921 - val_accuracy: 0.7428 - val_loss: 0.3719\n",
      "Epoch 3/40\n",
      "4710/4710 - 12s - 3ms/step - accuracy: 0.7652 - loss: 0.3432 - val_accuracy: 0.7802 - val_loss: 0.3249\n",
      "Epoch 4/40\n",
      "4710/4710 - 11s - 2ms/step - accuracy: 0.8022 - loss: 0.2996 - val_accuracy: 0.8167 - val_loss: 0.2837\n",
      "Epoch 5/40\n",
      "4710/4710 - 14s - 3ms/step - accuracy: 0.8364 - loss: 0.2619 - val_accuracy: 0.8502 - val_loss: 0.2496\n",
      "Epoch 6/40\n",
      "4710/4710 - 17s - 4ms/step - accuracy: 0.8626 - loss: 0.2322 - val_accuracy: 0.8700 - val_loss: 0.2233\n",
      "Epoch 7/40\n",
      "4710/4710 - 15s - 3ms/step - accuracy: 0.8780 - loss: 0.2097 - val_accuracy: 0.8850 - val_loss: 0.2037\n",
      "Epoch 8/40\n",
      "4710/4710 - 12s - 3ms/step - accuracy: 0.8889 - loss: 0.1931 - val_accuracy: 0.8931 - val_loss: 0.1887\n",
      "Epoch 9/40\n",
      "4710/4710 - 11s - 2ms/step - accuracy: 0.8974 - loss: 0.1800 - val_accuracy: 0.8998 - val_loss: 0.1775\n",
      "Epoch 10/40\n",
      "4710/4710 - 11s - 2ms/step - accuracy: 0.9036 - loss: 0.1694 - val_accuracy: 0.9036 - val_loss: 0.1695\n",
      "Epoch 11/40\n",
      "4710/4710 - 11s - 2ms/step - accuracy: 0.9091 - loss: 0.1608 - val_accuracy: 0.9095 - val_loss: 0.1605\n",
      "Epoch 12/40\n",
      "4710/4710 - 12s - 2ms/step - accuracy: 0.9135 - loss: 0.1534 - val_accuracy: 0.9135 - val_loss: 0.1540\n",
      "Epoch 13/40\n",
      "4710/4710 - 12s - 3ms/step - accuracy: 0.9173 - loss: 0.1472 - val_accuracy: 0.9169 - val_loss: 0.1482\n",
      "Epoch 14/40\n",
      "4710/4710 - 12s - 2ms/step - accuracy: 0.9204 - loss: 0.1421 - val_accuracy: 0.9212 - val_loss: 0.1428\n",
      "Epoch 15/40\n",
      "4710/4710 - 12s - 3ms/step - accuracy: 0.9231 - loss: 0.1377 - val_accuracy: 0.9225 - val_loss: 0.1393\n",
      "Epoch 16/40\n",
      "4710/4710 - 13s - 3ms/step - accuracy: 0.9254 - loss: 0.1337 - val_accuracy: 0.9246 - val_loss: 0.1367\n",
      "Epoch 17/40\n",
      "4710/4710 - 11s - 2ms/step - accuracy: 0.9274 - loss: 0.1303 - val_accuracy: 0.9272 - val_loss: 0.1334\n",
      "Epoch 18/40\n",
      "4710/4710 - 14s - 3ms/step - accuracy: 0.9289 - loss: 0.1272 - val_accuracy: 0.9274 - val_loss: 0.1323\n",
      "Epoch 19/40\n",
      "4710/4710 - 14s - 3ms/step - accuracy: 0.9307 - loss: 0.1243 - val_accuracy: 0.9297 - val_loss: 0.1287\n",
      "Epoch 20/40\n",
      "4710/4710 - 11s - 2ms/step - accuracy: 0.9320 - loss: 0.1218 - val_accuracy: 0.9317 - val_loss: 0.1261\n",
      "Epoch 21/40\n",
      "4710/4710 - 12s - 3ms/step - accuracy: 0.9332 - loss: 0.1195 - val_accuracy: 0.9325 - val_loss: 0.1245\n",
      "Epoch 22/40\n",
      "4710/4710 - 11s - 2ms/step - accuracy: 0.9346 - loss: 0.1172 - val_accuracy: 0.9333 - val_loss: 0.1218\n",
      "Epoch 23/40\n",
      "4710/4710 - 13s - 3ms/step - accuracy: 0.9358 - loss: 0.1153 - val_accuracy: 0.9341 - val_loss: 0.1206\n",
      "Epoch 24/40\n",
      "4710/4710 - 12s - 2ms/step - accuracy: 0.9366 - loss: 0.1136 - val_accuracy: 0.9347 - val_loss: 0.1198\n",
      "Epoch 25/40\n",
      "4710/4710 - 21s - 4ms/step - accuracy: 0.9377 - loss: 0.1119 - val_accuracy: 0.9356 - val_loss: 0.1178\n",
      "Epoch 26/40\n",
      "4710/4710 - 13s - 3ms/step - accuracy: 0.9387 - loss: 0.1101 - val_accuracy: 0.9351 - val_loss: 0.1181\n",
      "Epoch 27/40\n",
      "4710/4710 - 15s - 3ms/step - accuracy: 0.9392 - loss: 0.1089 - val_accuracy: 0.9375 - val_loss: 0.1153\n",
      "Epoch 28/40\n",
      "4710/4710 - 14s - 3ms/step - accuracy: 0.9398 - loss: 0.1075 - val_accuracy: 0.9365 - val_loss: 0.1156\n",
      "Epoch 29/40\n",
      "4710/4710 - 13s - 3ms/step - accuracy: 0.9403 - loss: 0.1063 - val_accuracy: 0.9364 - val_loss: 0.1156\n",
      "Epoch 30/40\n",
      "4710/4710 - 12s - 3ms/step - accuracy: 0.9412 - loss: 0.1050 - val_accuracy: 0.9364 - val_loss: 0.1142\n",
      "Epoch 31/40\n",
      "4710/4710 - 12s - 3ms/step - accuracy: 0.9414 - loss: 0.1039 - val_accuracy: 0.9377 - val_loss: 0.1133\n",
      "Epoch 32/40\n",
      "4710/4710 - 12s - 3ms/step - accuracy: 0.9420 - loss: 0.1029 - val_accuracy: 0.9378 - val_loss: 0.1122\n",
      "Epoch 33/40\n",
      "4710/4710 - 12s - 2ms/step - accuracy: 0.9425 - loss: 0.1018 - val_accuracy: 0.9388 - val_loss: 0.1103\n",
      "Epoch 34/40\n",
      "4710/4710 - 12s - 2ms/step - accuracy: 0.9431 - loss: 0.1008 - val_accuracy: 0.9392 - val_loss: 0.1101\n",
      "Epoch 35/40\n",
      "4710/4710 - 11s - 2ms/step - accuracy: 0.9437 - loss: 0.0999 - val_accuracy: 0.9381 - val_loss: 0.1114\n",
      "Epoch 36/40\n",
      "4710/4710 - 12s - 2ms/step - accuracy: 0.9438 - loss: 0.0990 - val_accuracy: 0.9398 - val_loss: 0.1096\n",
      "Epoch 37/40\n",
      "4710/4710 - 12s - 2ms/step - accuracy: 0.9443 - loss: 0.0983 - val_accuracy: 0.9408 - val_loss: 0.1082\n",
      "Epoch 38/40\n",
      "4710/4710 - 12s - 3ms/step - accuracy: 0.9446 - loss: 0.0975 - val_accuracy: 0.9398 - val_loss: 0.1087\n",
      "Epoch 39/40\n",
      "4710/4710 - 26s - 5ms/step - accuracy: 0.9451 - loss: 0.0967 - val_accuracy: 0.9390 - val_loss: 0.1114\n",
      "Epoch 40/40\n",
      "4710/4710 - 12s - 3ms/step - accuracy: 0.9456 - loss: 0.0962 - val_accuracy: 0.9400 - val_loss: 0.1072\n",
      "Epoch 1/25\n",
      "4710/4710 - 10s - 2ms/step - accuracy: 0.9474 - loss: 0.0926 - val_accuracy: 0.9425 - val_loss: 0.1049\n",
      "Epoch 2/25\n",
      "4710/4710 - 9s - 2ms/step - accuracy: 0.9478 - loss: 0.0920 - val_accuracy: 0.9428 - val_loss: 0.1047\n",
      "Epoch 3/25\n",
      "4710/4710 - 13s - 3ms/step - accuracy: 0.9480 - loss: 0.0917 - val_accuracy: 0.9423 - val_loss: 0.1043\n",
      "Epoch 4/25\n",
      "4710/4710 - 12s - 3ms/step - accuracy: 0.9480 - loss: 0.0913 - val_accuracy: 0.9421 - val_loss: 0.1050\n",
      "Epoch 5/25\n",
      "4710/4710 - 12s - 3ms/step - accuracy: 0.9484 - loss: 0.0910 - val_accuracy: 0.9423 - val_loss: 0.1044\n",
      "Epoch 6/25\n",
      "4710/4710 - 10s - 2ms/step - accuracy: 0.9486 - loss: 0.0907 - val_accuracy: 0.9425 - val_loss: 0.1042\n",
      "Epoch 7/25\n",
      "4710/4710 - 13s - 3ms/step - accuracy: 0.9487 - loss: 0.0903 - val_accuracy: 0.9427 - val_loss: 0.1042\n",
      "Epoch 8/25\n",
      "4710/4710 - 12s - 2ms/step - accuracy: 0.9487 - loss: 0.0901 - val_accuracy: 0.9429 - val_loss: 0.1047\n",
      "Epoch 9/25\n",
      "4710/4710 - 15s - 3ms/step - accuracy: 0.9489 - loss: 0.0897 - val_accuracy: 0.9430 - val_loss: 0.1036\n",
      "Epoch 10/25\n",
      "4710/4710 - 12s - 3ms/step - accuracy: 0.9494 - loss: 0.0894 - val_accuracy: 0.9432 - val_loss: 0.1037\n",
      "Epoch 11/25\n",
      "4710/4710 - 14s - 3ms/step - accuracy: 0.9493 - loss: 0.0891 - val_accuracy: 0.9434 - val_loss: 0.1032\n",
      "Epoch 12/25\n",
      "4710/4710 - 13s - 3ms/step - accuracy: 0.9494 - loss: 0.0889 - val_accuracy: 0.9436 - val_loss: 0.1039\n",
      "Epoch 13/25\n",
      "4710/4710 - 11s - 2ms/step - accuracy: 0.9496 - loss: 0.0886 - val_accuracy: 0.9428 - val_loss: 0.1037\n",
      "Epoch 14/25\n",
      "4710/4710 - 13s - 3ms/step - accuracy: 0.9497 - loss: 0.0883 - val_accuracy: 0.9427 - val_loss: 0.1043\n",
      "Epoch 15/25\n",
      "4710/4710 - 13s - 3ms/step - accuracy: 0.9500 - loss: 0.0880 - val_accuracy: 0.9437 - val_loss: 0.1032\n",
      "Epoch 16/25\n",
      "4710/4710 - 12s - 3ms/step - accuracy: 0.9500 - loss: 0.0878 - val_accuracy: 0.9442 - val_loss: 0.1023\n",
      "Epoch 17/25\n",
      "4710/4710 - 11s - 2ms/step - accuracy: 0.9502 - loss: 0.0875 - val_accuracy: 0.9440 - val_loss: 0.1022\n",
      "Epoch 18/25\n",
      "4710/4710 - 13s - 3ms/step - accuracy: 0.9502 - loss: 0.0872 - val_accuracy: 0.9438 - val_loss: 0.1034\n",
      "Epoch 19/25\n",
      "4710/4710 - 15s - 3ms/step - accuracy: 0.9504 - loss: 0.0870 - val_accuracy: 0.9443 - val_loss: 0.1029\n",
      "Epoch 20/25\n",
      "4710/4710 - 13s - 3ms/step - accuracy: 0.9506 - loss: 0.0867 - val_accuracy: 0.9444 - val_loss: 0.1027\n",
      "Epoch 21/25\n",
      "4710/4710 - 12s - 3ms/step - accuracy: 0.9508 - loss: 0.0865 - val_accuracy: 0.9437 - val_loss: 0.1022\n",
      "Epoch 22/25\n",
      "4710/4710 - 12s - 3ms/step - accuracy: 0.9508 - loss: 0.0863 - val_accuracy: 0.9442 - val_loss: 0.1022\n",
      "Epoch 23/25\n",
      "4710/4710 - 12s - 2ms/step - accuracy: 0.9508 - loss: 0.0861 - val_accuracy: 0.9440 - val_loss: 0.1023\n",
      "Epoch 24/25\n",
      "4710/4710 - 13s - 3ms/step - accuracy: 0.9507 - loss: 0.0859 - val_accuracy: 0.9445 - val_loss: 0.1020\n",
      "Epoch 25/25\n",
      "4710/4710 - 11s - 2ms/step - accuracy: 0.9512 - loss: 0.0856 - val_accuracy: 0.9451 - val_loss: 0.1015\n",
      "Epoch 1/15\n",
      "4710/4710 - 12s - 3ms/step - accuracy: 0.9521 - loss: 0.0837 - val_accuracy: 0.9457 - val_loss: 0.1007\n",
      "Epoch 2/15\n",
      "4710/4710 - 12s - 3ms/step - accuracy: 0.9523 - loss: 0.0836 - val_accuracy: 0.9455 - val_loss: 0.1008\n",
      "Epoch 3/15\n",
      "4710/4710 - 9s - 2ms/step - accuracy: 0.9524 - loss: 0.0834 - val_accuracy: 0.9451 - val_loss: 0.1008\n",
      "Epoch 4/15\n",
      "4710/4710 - 10s - 2ms/step - accuracy: 0.9522 - loss: 0.0833 - val_accuracy: 0.9451 - val_loss: 0.1010\n",
      "Epoch 5/15\n",
      "4710/4710 - 13s - 3ms/step - accuracy: 0.9525 - loss: 0.0832 - val_accuracy: 0.9454 - val_loss: 0.1005\n",
      "Epoch 6/15\n",
      "4710/4710 - 14s - 3ms/step - accuracy: 0.9525 - loss: 0.0830 - val_accuracy: 0.9441 - val_loss: 0.1013\n",
      "Epoch 7/15\n",
      "4710/4710 - 14s - 3ms/step - accuracy: 0.9524 - loss: 0.0830 - val_accuracy: 0.9454 - val_loss: 0.1005\n",
      "Epoch 8/15\n",
      "4710/4710 - 16s - 3ms/step - accuracy: 0.9527 - loss: 0.0828 - val_accuracy: 0.9454 - val_loss: 0.1009\n",
      "Epoch 9/15\n",
      "4710/4710 - 13s - 3ms/step - accuracy: 0.9526 - loss: 0.0827 - val_accuracy: 0.9452 - val_loss: 0.1008\n",
      "Epoch 10/15\n",
      "4710/4710 - 12s - 2ms/step - accuracy: 0.9528 - loss: 0.0826 - val_accuracy: 0.9448 - val_loss: 0.1010\n",
      "Epoch 11/15\n",
      "4710/4710 - 14s - 3ms/step - accuracy: 0.9528 - loss: 0.0825 - val_accuracy: 0.9458 - val_loss: 0.1008\n",
      "Epoch 12/15\n",
      "4710/4710 - 16s - 3ms/step - accuracy: 0.9527 - loss: 0.0824 - val_accuracy: 0.9455 - val_loss: 0.1010\n",
      "Epoch 13/15\n",
      "4710/4710 - 19s - 4ms/step - accuracy: 0.9530 - loss: 0.0823 - val_accuracy: 0.9455 - val_loss: 0.1004\n",
      "Epoch 14/15\n",
      "4710/4710 - 15s - 3ms/step - accuracy: 0.9530 - loss: 0.0822 - val_accuracy: 0.9450 - val_loss: 0.1007\n",
      "Epoch 15/15\n",
      "4710/4710 - 14s - 3ms/step - accuracy: 0.9531 - loss: 0.0821 - val_accuracy: 0.9455 - val_loss: 0.1006\n",
      "Epoch 1/10\n",
      "4710/4710 - 15s - 3ms/step - accuracy: 0.9537 - loss: 0.0807 - val_accuracy: 0.9456 - val_loss: 0.1001\n",
      "Epoch 2/10\n",
      "4710/4710 - 19s - 4ms/step - accuracy: 0.9538 - loss: 0.0806 - val_accuracy: 0.9457 - val_loss: 0.1000\n",
      "Epoch 3/10\n",
      "4710/4710 - 18s - 4ms/step - accuracy: 0.9539 - loss: 0.0805 - val_accuracy: 0.9455 - val_loss: 0.0999\n",
      "Epoch 4/10\n",
      "4710/4710 - 14s - 3ms/step - accuracy: 0.9539 - loss: 0.0805 - val_accuracy: 0.9456 - val_loss: 0.0999\n",
      "Epoch 5/10\n",
      "4710/4710 - 15s - 3ms/step - accuracy: 0.9540 - loss: 0.0804 - val_accuracy: 0.9458 - val_loss: 0.1001\n",
      "Epoch 6/10\n",
      "4710/4710 - 15s - 3ms/step - accuracy: 0.9539 - loss: 0.0804 - val_accuracy: 0.9456 - val_loss: 0.1000\n",
      "Epoch 7/10\n",
      "4710/4710 - 16s - 3ms/step - accuracy: 0.9540 - loss: 0.0804 - val_accuracy: 0.9456 - val_loss: 0.0999\n",
      "Epoch 8/10\n",
      "4710/4710 - 12s - 3ms/step - accuracy: 0.9539 - loss: 0.0804 - val_accuracy: 0.9458 - val_loss: 0.0999\n",
      "Epoch 9/10\n",
      "4710/4710 - 11s - 2ms/step - accuracy: 0.9539 - loss: 0.0803 - val_accuracy: 0.9454 - val_loss: 0.0999\n",
      "Epoch 10/10\n",
      "4710/4710 - 11s - 2ms/step - accuracy: 0.9539 - loss: 0.0803 - val_accuracy: 0.9458 - val_loss: 0.1000\n",
      "Epoch 1/5\n",
      "4710/4710 - 11s - 2ms/step - accuracy: 0.9541 - loss: 0.0800 - val_accuracy: 0.9457 - val_loss: 0.0999\n",
      "Epoch 2/5\n",
      "4710/4710 - 15s - 3ms/step - accuracy: 0.9541 - loss: 0.0800 - val_accuracy: 0.9458 - val_loss: 0.0999\n",
      "Epoch 3/5\n",
      "4710/4710 - 11s - 2ms/step - accuracy: 0.9542 - loss: 0.0800 - val_accuracy: 0.9458 - val_loss: 0.0999\n",
      "Epoch 4/5\n",
      "4710/4710 - 11s - 2ms/step - accuracy: 0.9542 - loss: 0.0800 - val_accuracy: 0.9458 - val_loss: 0.0999\n",
      "Epoch 5/5\n",
      "4710/4710 - 12s - 3ms/step - accuracy: 0.9541 - loss: 0.0800 - val_accuracy: 0.9457 - val_loss: 0.0999\n",
      "589/589 - 2s - 3ms/step - accuracy: 0.9435 - loss: 0.1054\n"
     ]
    },
    {
     "data": {
      "text/html": [
       "<pre style=\"white-space:pre;overflow-x:auto;line-height:normal;font-family:Menlo,'DejaVu Sans Mono',consolas,'Courier New',monospace\"><span style=\"font-weight: bold\">Model: \"sequential_8\"</span>\n",
       "</pre>\n"
      ],
      "text/plain": [
       "\u001b[1mModel: \"sequential_8\"\u001b[0m\n"
      ]
     },
     "metadata": {},
     "output_type": "display_data"
    },
    {
     "data": {
      "text/html": [
       "<pre style=\"white-space:pre;overflow-x:auto;line-height:normal;font-family:Menlo,'DejaVu Sans Mono',consolas,'Courier New',monospace\">┏━━━━━━━━━━━━━━━━━━━━━━━━━━━━━━━━━┳━━━━━━━━━━━━━━━━━━━━━━━━┳━━━━━━━━━━━━━━━┓\n",
       "┃<span style=\"font-weight: bold\"> Layer (type)                    </span>┃<span style=\"font-weight: bold\"> Output Shape           </span>┃<span style=\"font-weight: bold\">       Param # </span>┃\n",
       "┡━━━━━━━━━━━━━━━━━━━━━━━━━━━━━━━━━╇━━━━━━━━━━━━━━━━━━━━━━━━╇━━━━━━━━━━━━━━━┩\n",
       "│ embedding_8 (<span style=\"color: #0087ff; text-decoration-color: #0087ff\">Embedding</span>)         │ (<span style=\"color: #00d7ff; text-decoration-color: #00d7ff\">None</span>, <span style=\"color: #00af00; text-decoration-color: #00af00\">7</span>, <span style=\"color: #00af00; text-decoration-color: #00af00\">32</span>)          │           <span style=\"color: #00af00; text-decoration-color: #00af00\">960</span> │\n",
       "├─────────────────────────────────┼────────────────────────┼───────────────┤\n",
       "│ flatten_1 (<span style=\"color: #0087ff; text-decoration-color: #0087ff\">Flatten</span>)             │ (<span style=\"color: #00d7ff; text-decoration-color: #00d7ff\">None</span>, <span style=\"color: #00af00; text-decoration-color: #00af00\">224</span>)            │             <span style=\"color: #00af00; text-decoration-color: #00af00\">0</span> │\n",
       "├─────────────────────────────────┼────────────────────────┼───────────────┤\n",
       "│ dense_24 (<span style=\"color: #0087ff; text-decoration-color: #0087ff\">Dense</span>)                │ (<span style=\"color: #00d7ff; text-decoration-color: #00d7ff\">None</span>, <span style=\"color: #00af00; text-decoration-color: #00af00\">64</span>)             │        <span style=\"color: #00af00; text-decoration-color: #00af00\">14,400</span> │\n",
       "├─────────────────────────────────┼────────────────────────┼───────────────┤\n",
       "│ dense_25 (<span style=\"color: #0087ff; text-decoration-color: #0087ff\">Dense</span>)                │ (<span style=\"color: #00d7ff; text-decoration-color: #00d7ff\">None</span>, <span style=\"color: #00af00; text-decoration-color: #00af00\">32</span>)             │         <span style=\"color: #00af00; text-decoration-color: #00af00\">2,080</span> │\n",
       "├─────────────────────────────────┼────────────────────────┼───────────────┤\n",
       "│ dense_26 (<span style=\"color: #0087ff; text-decoration-color: #0087ff\">Dense</span>)                │ (<span style=\"color: #00d7ff; text-decoration-color: #00d7ff\">None</span>, <span style=\"color: #00af00; text-decoration-color: #00af00\">3</span>)              │            <span style=\"color: #00af00; text-decoration-color: #00af00\">99</span> │\n",
       "└─────────────────────────────────┴────────────────────────┴───────────────┘\n",
       "</pre>\n"
      ],
      "text/plain": [
       "┏━━━━━━━━━━━━━━━━━━━━━━━━━━━━━━━━━┳━━━━━━━━━━━━━━━━━━━━━━━━┳━━━━━━━━━━━━━━━┓\n",
       "┃\u001b[1m \u001b[0m\u001b[1mLayer (type)                   \u001b[0m\u001b[1m \u001b[0m┃\u001b[1m \u001b[0m\u001b[1mOutput Shape          \u001b[0m\u001b[1m \u001b[0m┃\u001b[1m \u001b[0m\u001b[1m      Param #\u001b[0m\u001b[1m \u001b[0m┃\n",
       "┡━━━━━━━━━━━━━━━━━━━━━━━━━━━━━━━━━╇━━━━━━━━━━━━━━━━━━━━━━━━╇━━━━━━━━━━━━━━━┩\n",
       "│ embedding_8 (\u001b[38;5;33mEmbedding\u001b[0m)         │ (\u001b[38;5;45mNone\u001b[0m, \u001b[38;5;34m7\u001b[0m, \u001b[38;5;34m32\u001b[0m)          │           \u001b[38;5;34m960\u001b[0m │\n",
       "├─────────────────────────────────┼────────────────────────┼───────────────┤\n",
       "│ flatten_1 (\u001b[38;5;33mFlatten\u001b[0m)             │ (\u001b[38;5;45mNone\u001b[0m, \u001b[38;5;34m224\u001b[0m)            │             \u001b[38;5;34m0\u001b[0m │\n",
       "├─────────────────────────────────┼────────────────────────┼───────────────┤\n",
       "│ dense_24 (\u001b[38;5;33mDense\u001b[0m)                │ (\u001b[38;5;45mNone\u001b[0m, \u001b[38;5;34m64\u001b[0m)             │        \u001b[38;5;34m14,400\u001b[0m │\n",
       "├─────────────────────────────────┼────────────────────────┼───────────────┤\n",
       "│ dense_25 (\u001b[38;5;33mDense\u001b[0m)                │ (\u001b[38;5;45mNone\u001b[0m, \u001b[38;5;34m32\u001b[0m)             │         \u001b[38;5;34m2,080\u001b[0m │\n",
       "├─────────────────────────────────┼────────────────────────┼───────────────┤\n",
       "│ dense_26 (\u001b[38;5;33mDense\u001b[0m)                │ (\u001b[38;5;45mNone\u001b[0m, \u001b[38;5;34m3\u001b[0m)              │            \u001b[38;5;34m99\u001b[0m │\n",
       "└─────────────────────────────────┴────────────────────────┴───────────────┘\n"
      ]
     },
     "metadata": {},
     "output_type": "display_data"
    },
    {
     "data": {
      "text/html": [
       "<pre style=\"white-space:pre;overflow-x:auto;line-height:normal;font-family:Menlo,'DejaVu Sans Mono',consolas,'Courier New',monospace\"><span style=\"font-weight: bold\"> Total params: </span><span style=\"color: #00af00; text-decoration-color: #00af00\">17,541</span> (68.52 KB)\n",
       "</pre>\n"
      ],
      "text/plain": [
       "\u001b[1m Total params: \u001b[0m\u001b[38;5;34m17,541\u001b[0m (68.52 KB)\n"
      ]
     },
     "metadata": {},
     "output_type": "display_data"
    },
    {
     "data": {
      "text/html": [
       "<pre style=\"white-space:pre;overflow-x:auto;line-height:normal;font-family:Menlo,'DejaVu Sans Mono',consolas,'Courier New',monospace\"><span style=\"font-weight: bold\"> Trainable params: </span><span style=\"color: #00af00; text-decoration-color: #00af00\">17,539</span> (68.51 KB)\n",
       "</pre>\n"
      ],
      "text/plain": [
       "\u001b[1m Trainable params: \u001b[0m\u001b[38;5;34m17,539\u001b[0m (68.51 KB)\n"
      ]
     },
     "metadata": {},
     "output_type": "display_data"
    },
    {
     "data": {
      "text/html": [
       "<pre style=\"white-space:pre;overflow-x:auto;line-height:normal;font-family:Menlo,'DejaVu Sans Mono',consolas,'Courier New',monospace\"><span style=\"font-weight: bold\"> Non-trainable params: </span><span style=\"color: #00af00; text-decoration-color: #00af00\">0</span> (0.00 B)\n",
       "</pre>\n"
      ],
      "text/plain": [
       "\u001b[1m Non-trainable params: \u001b[0m\u001b[38;5;34m0\u001b[0m (0.00 B)\n"
      ]
     },
     "metadata": {},
     "output_type": "display_data"
    },
    {
     "data": {
      "text/html": [
       "<pre style=\"white-space:pre;overflow-x:auto;line-height:normal;font-family:Menlo,'DejaVu Sans Mono',consolas,'Courier New',monospace\"><span style=\"font-weight: bold\"> Optimizer params: </span><span style=\"color: #00af00; text-decoration-color: #00af00\">2</span> (12.00 B)\n",
       "</pre>\n"
      ],
      "text/plain": [
       "\u001b[1m Optimizer params: \u001b[0m\u001b[38;5;34m2\u001b[0m (12.00 B)\n"
      ]
     },
     "metadata": {},
     "output_type": "display_data"
    },
    {
     "name": "stderr",
     "output_type": "stream",
     "text": [
      "WARNING:absl:You are saving your model as an HDF5 file via `model.save()` or `keras.saving.save_model(model)`. This file format is considered legacy. We recommend using instead the native Keras format, e.g. `model.save('my_model.keras')` or `keras.saving.save_model(model, 'my_model.keras')`. \n"
     ]
    }
   ],
   "source": [
    "\n",
    "\n",
    "\n",
    "histories = []\n",
    "for l_rate, epochs in zip(learning_rates, epochs):\n",
    "    optim = keras.optimizers.SGD(learning_rate=l_rate)\n",
    "    model.compile(loss=loss, optimizer=optim, metrics=metrics)\n",
    "    history = model.fit(train_x, train_y, batch_size=batch_size, epochs=epochs, validation_data=(val_x, val_y), verbose=2, shuffle=True)\n",
    "    histories.append(history)\n",
    "\n",
    "result = model.evaluate(test_x, test_y, batch_size=batch_size, verbose=2)\n",
    "\n",
    "model.summary()\n",
    "\n",
    "model.save('model_lstm3.h5')"
   ]
  },
  {
   "cell_type": "code",
   "execution_count": 36,
   "metadata": {},
   "outputs": [],
   "source": [
    "histories = utils.merge_histories(histories)\n",
    "\n"
   ]
  },
  {
   "cell_type": "code",
   "execution_count": 44,
   "metadata": {},
   "outputs": [
    {
     "data": {
      "image/png": "[encoded data removed]",
      "text/plain": [
       "<Figure size 640x480 with 1 Axes>"
      ]
     },
     "execution_count": 44,
     "metadata": {},
     "output_type": "execute_result"
    },
    {
     "data": {
      "image/png": "[encoded data removed]",
      "text/plain": [
       "<Figure size 640x480 with 1 Axes>"
      ]
     },
     "metadata": {},
     "output_type": "display_data"
    }
   ],
   "source": [
    "utils.plot_loss(utils.slice_history(histories))"
   ]
  },
  {
   "cell_type": "markdown",
   "metadata": {},
   "source": [
    "### First Attempt:\n",
    "\n",
    "First attempt with an LSTM:\n",
    "\n",
    "Changed the input to a sequence based one instead of a one-hot encoding, and lowered the max characters to 20. \n",
    "\n",
    "```py\n",
    "learning_rates = [0.02, 0.01, 0.005, 0.001, 0.0003]\n",
    "epochs = [10, 10, 10, 20, 10]\n",
    "\n",
    "batch_size = 32\n",
    "\n",
    "loss = keras.losses.BinaryCrossentropy()\n",
    "metrics = [\"accuracy\"]\n",
    "```\n",
    "\n",
    "It's not a very deep network but LSTM layers seem to be much slower than conventional or convolutional ones, so making it deeper would be an issue with my current hardware. \n",
    "\n",
    "![model_plot_lstm1.png](plots/model_plot_lstm1.png)  \n",
    "\n",
    "![fifth_attempt_11.png](plots/fifth_attempt_11.png)\n",
    "\n",
    "![fifth_attempt_12.png](plots/fifth_attempt_12.png)\n",
    "\n",
    "Seems to have fairly good accuracy, and also little overfitting. \n",
    "\n",
    "## Accuracy: 0.8780 "
   ]
  },
  {
   "cell_type": "markdown",
   "metadata": {},
   "source": [
    "### Second Attempt:\n",
    "\n",
    "Changed the LSTM layer to be bidirectional:\n",
    "\n",
    "```py\n",
    "model.add(layers.Bidirectional(layers.LSTM(32)))\n",
    "\n",
    "```\n",
    "\n",
    "```py\n",
    "learning_rates = [0.02, 0.01, 0.005, 0.001, 0.0003]\n",
    "epochs = [15, 10, 10, 20, 10]\n",
    "\n",
    "batch_size = 32\n",
    "\n",
    "loss = keras.losses.BinaryCrossentropy()\n",
    "metrics = [\"accuracy\"]\n",
    "```\n",
    "\n",
    "\n",
    "![model_plot_lstm1.png](plots/model_plot_lstm2.png)  \n",
    "\n",
    "![fifth_attempt_21.png](plots/fifth_attempt_21.png)\n",
    "\n",
    "![fifth_attempt_22.png](plots/fifth_attempt_22.png)\n",
    "\n",
    "Significant increase in accuracy, but at the cost of quite a lot more execution time. Realized I was lowering my learning rate too fast, since the accuracy growth had not yet stagnated by the time it was lowered.\n",
    "\n",
    "## Accuracy: 0.8935"
   ]
  },
  {
   "cell_type": "markdown",
   "metadata": {},
   "source": [
    "### Third Attempt:\n",
    "\n",
    "Modified the amount of epochs:\n",
    "```py\n",
    "learning_rates = [0.02, 0.01, 0.005, 0.001, 0.0003]\n",
    "epochs = [20, 20, 15, 10, 5]\n",
    "\n",
    "batch_size = 32\n",
    "\n",
    "loss = keras.losses.BinaryCrossentropy()\n",
    "metrics = [\"accuracy\"]\n",
    "```\n",
    "Also tried to add another dense layer but it didn't work out, so I cut it short and went back to only one dense layer.\n",
    "\n",
    "![model_plot_lstm3.png](plots/model_plot_lstm3.png)  \n",
    "\n",
    "![fifth_attempt_31.png](plots/fifth_attempt_31.png)\n",
    "\n",
    "![fifth_attempt_32.png](plots/fifth_attempt_32.png)\n",
    "\n",
    "Significant increase in accuracy again, but overfitting also increased a lot.\n",
    "\n",
    "Accuracy: 0.9067"
   ]
  },
  {
   "cell_type": "markdown",
   "metadata": {},
   "source": [
    "### Fourth Attempt\n",
    "\n",
    "The main change was to the preprocessing: instead of capping the max number of characters and excluding the longer words, the model now only receives the last n (7 in this case) characters of a word. This has two advantages: it both increases the amount of data available for training, and allows the model to focus on the more important information, which is the ending of the word. \n",
    "\n",
    "Also modified the number of epochs, since the accuracy was still growing by the time of the first decrease in learning rate. \n",
    "\n",
    "```py\n",
    "learning_rates = [0.02, 0.01, 0.005, 0.001, 0.0003]\n",
    "epochs = [40, 25, 15, 10, 5]\n",
    "\n",
    "batch_size = 64\n",
    "\n",
    "loss = keras.losses.BinaryCrossentropy()\n",
    "metrics = [\"accuracy\"]\n",
    "```\n",
    "\n",
    "This results in an enormous gain in accuracy, approaching almost 95%.\n",
    "\n",
    "![fifth_attempt_41.png](plots/fifth_attempt_41.png)\n",
    "\n",
    "![fifth_attempt_42.png](plots/fifth_attempt_42.png)\n",
    "\n",
    "### Final Accuracy: 0.9428"
   ]
  }
 ],
 "metadata": {
  "kernelspec": {
   "display_name": "TPIAVenv",
   "language": "python",
   "name": "python3"
  },
  "language_info": {
   "codemirror_mode": {
    "name": "ipython",
    "version": 3
   },
   "file_extension": ".py",
   "mimetype": "text/x-python",
   "name": "python",
   "nbconvert_exporter": "python",
   "pygments_lexer": "ipython3",
   "version": "3.11.3"
  }
 },
 "nbformat": 4,
 "nbformat_minor": 2
}
